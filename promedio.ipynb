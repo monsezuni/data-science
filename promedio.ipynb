{
 "cells": [
  {
   "cell_type": "code",
   "execution_count": 15,
   "id": "fd6c1b4b",
   "metadata": {},
   "outputs": [],
   "source": [
    "def promedio(numeros):\n",
    "    '''Funcion que retorna el promedio de una lista de numeros\n",
    "    \n",
    "    Entrada\n",
    "    -------\n",
    "    n : numeros a utilizar\n",
    "    \n",
    "    Salida\n",
    "    ------\n",
    "    promedio : suma de todos los numeros dividida en su cantidad\n",
    "    ''' \n",
    "    if len(numeros) == 0:\n",
    "        return 0\n",
    "    suma = sum(numeros)\n",
    "    prom = suma / len(numeros)\n",
    "    return prom\n"
   ]
  },
  {
   "cell_type": "code",
   "execution_count": 18,
   "id": "1acb4a7a",
   "metadata": {},
   "outputs": [
    {
     "name": "stdout",
     "output_type": "stream",
     "text": [
      "El promedio es: 11.4\n"
     ]
    }
   ],
   "source": [
    "#ejemplo\n",
    "numeros = [7, 5, 11, 14, 20]\n",
    "prom = promedio(numeros)\n",
    "print(\"El promedio es:\", prom)\n"
   ]
  }
 ],
 "metadata": {
  "kernelspec": {
   "display_name": "Python 3 (ipykernel)",
   "language": "python",
   "name": "python3"
  },
  "language_info": {
   "codemirror_mode": {
    "name": "ipython",
    "version": 3
   },
   "file_extension": ".py",
   "mimetype": "text/x-python",
   "name": "python",
   "nbconvert_exporter": "python",
   "pygments_lexer": "ipython3",
   "version": "3.9.12"
  }
 },
 "nbformat": 4,
 "nbformat_minor": 5
}
