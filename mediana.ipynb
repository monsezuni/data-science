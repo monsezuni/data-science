{
 "cells": [
  {
   "cell_type": "code",
   "execution_count": 4,
   "id": "89c8e72e",
   "metadata": {},
   "outputs": [],
   "source": [
    "def mediana(numeros):\n",
    "    '''Funcion que retorna la mediana de una lista de numeros\n",
    "    \n",
    "    Entrada\n",
    "    -------\n",
    "    n : ordena la lista\n",
    "    \n",
    "    Salida\n",
    "    ------\n",
    "    mediana : identifica si la cantidad de numeros es par o impar y retorna su mediana\n",
    "    '''\n",
    "    \n",
    "    lista = sorted(numeros)\n",
    "    n = len(lista)\n",
    "    \n",
    "    if n % 2 == 1:\n",
    "        median = lista[n // 2]\n",
    "    else:\n",
    "        median = (lista[(n // 2) - 1] + lista[n // 2]) / 2\n",
    "\n",
    "    return median"
   ]
  },
  {
   "cell_type": "code",
   "execution_count": 9,
   "id": "6c886909",
   "metadata": {},
   "outputs": [
    {
     "name": "stdout",
     "output_type": "stream",
     "text": [
      "La mediana es: 22.0\n"
     ]
    }
   ],
   "source": [
    "#ejemplo\n",
    "numeros = [1, 6, 15, 40, 24, 20, 50, 67]\n",
    "median = mediana(numeros)\n",
    "print(\"La mediana es:\", median)"
   ]
  }
 ],
 "metadata": {
  "kernelspec": {
   "display_name": "Python 3 (ipykernel)",
   "language": "python",
   "name": "python3"
  },
  "language_info": {
   "codemirror_mode": {
    "name": "ipython",
    "version": 3
   },
   "file_extension": ".py",
   "mimetype": "text/x-python",
   "name": "python",
   "nbconvert_exporter": "python",
   "pygments_lexer": "ipython3",
   "version": "3.9.12"
  }
 },
 "nbformat": 4,
 "nbformat_minor": 5
}
